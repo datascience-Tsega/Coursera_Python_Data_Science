{
 "cells": [
  {
   "cell_type": "markdown",
   "metadata": {},
   "source": [
    "---\n",
    "\n",
    "_You are currently looking at **version 1.5** of this notebook. To download notebooks and datafiles, as well as get help on Jupyter notebooks in the Coursera platform, visit the [Jupyter Notebook FAQ](https://www.coursera.org/learn/python-data-analysis/resources/0dhYG) course resource._\n",
    "\n",
    "---"
   ]
  },
  {
   "cell_type": "markdown",
   "metadata": {},
   "source": [
    "# Assignment 3 - More Pandas\n",
    "This assignment requires more individual learning then the last one did - you are encouraged to check out the [pandas documentation](http://pandas.pydata.org/pandas-docs/stable/) to find functions or methods you might not have used yet, or ask questions on [Stack Overflow](http://stackoverflow.com/) and tag them as pandas and python related. And of course, the discussion forums are open for interaction with your peers and the course staff."
   ]
  },
  {
   "cell_type": "markdown",
   "metadata": {},
   "source": [
    "### Question 1 (20%)\n",
    "Load the energy data from the file `Energy Indicators.xls`, which is a list of indicators of [energy supply and renewable electricity production](Energy%20Indicators.xls) from the [United Nations](http://unstats.un.org/unsd/environment/excel_file_tables/2013/Energy%20Indicators.xls) for the year 2013, and should be put into a DataFrame with the variable name of **energy**.\n",
    "\n",
    "Keep in mind that this is an Excel file, and not a comma separated values file. Also, make sure to exclude the footer and header information from the datafile. The first two columns are unneccessary, so you should get rid of them, and you should change the column labels so that the columns are:\n",
    "\n",
    "`['Country', 'Energy Supply', 'Energy Supply per Capita', '% Renewable']`\n",
    "\n",
    "Convert `Energy Supply` to gigajoules (there are 1,000,000 gigajoules in a petajoule). For all countries which have missing data (e.g. data with \"...\") make sure this is reflected as `np.NaN` values.\n",
    "\n",
    "Rename the following list of countries (for use in later questions):\n",
    "\n",
    "```\"Republic of Korea\": \"South Korea\",\n",
    "\"United States of America\": \"United States\",\n",
    "\"United Kingdom of Great Britain and Northern Ireland\": \"United Kingdom\",\n",
    "\"China, Hong Kong Special Administrative Region\": \"Hong Kong\"```\n",
    "\n",
    "There are also several countries with numbers and/or parenthesis in their name. Be sure to remove these, \n",
    "\n",
    "e.g. \n",
    "\n",
    "`'Bolivia (Plurinational State of)'` should be `'Bolivia'`, \n",
    "\n",
    "`'Switzerland17'` should be `'Switzerland'`.\n",
    "\n",
    "<br>\n",
    "\n",
    "Next, load the GDP data from the file `world_bank.csv`, which is a csv containing countries' GDP from 1960 to 2015 from [World Bank](http://data.worldbank.org/indicator/NY.GDP.MKTP.CD). Call this DataFrame **GDP**. \n",
    "\n",
    "Make sure to skip the header, and rename the following list of countries:\n",
    "\n",
    "```\"Korea, Rep.\": \"South Korea\", \n",
    "\"Iran, Islamic Rep.\": \"Iran\",\n",
    "\"Hong Kong SAR, China\": \"Hong Kong\"```\n",
    "\n",
    "<br>\n",
    "\n",
    "Finally, load the [Sciamgo Journal and Country Rank data for Energy Engineering and Power Technology](http://www.scimagojr.com/countryrank.php?category=2102) from the file `scimagojr-3.xlsx`, which ranks countries based on their journal contributions in the aforementioned area. Call this DataFrame **ScimEn**.\n",
    "\n",
    "Join the three datasets: GDP, Energy, and ScimEn into a new dataset (using the intersection of country names). Use only the last 10 years (2006-2015) of GDP data and only the top 15 countries by Scimagojr 'Rank' (Rank 1 through 15). \n",
    "\n",
    "The index of this DataFrame should be the name of the country, and the columns should be ['Rank', 'Documents', 'Citable documents', 'Citations', 'Self-citations',\n",
    "       'Citations per document', 'H index', 'Energy Supply',\n",
    "       'Energy Supply per Capita', '% Renewable', '2006', '2007', '2008',\n",
    "       '2009', '2010', '2011', '2012', '2013', '2014', '2015'].\n",
    "\n",
    "*This function should return a DataFrame with 20 columns and 15 entries.*"
   ]
  },
  {
   "cell_type": "code",
   "execution_count": 564,
   "metadata": {
    "collapsed": false
   },
   "outputs": [
    {
     "data": {
      "text/html": [
       "<div>\n",
       "<table border=\"1\" class=\"dataframe\">\n",
       "  <thead>\n",
       "    <tr style=\"text-align: right;\">\n",
       "      <th></th>\n",
       "      <th>Rank</th>\n",
       "      <th>Documents</th>\n",
       "      <th>Citable documents</th>\n",
       "      <th>Citations</th>\n",
       "      <th>Self-citations</th>\n",
       "      <th>Citations per document</th>\n",
       "      <th>H index</th>\n",
       "      <th>Energy Supply</th>\n",
       "      <th>Energy Supply per Capita</th>\n",
       "      <th>% Renewable</th>\n",
       "      <th>2006</th>\n",
       "      <th>2007</th>\n",
       "      <th>2008</th>\n",
       "      <th>2009</th>\n",
       "      <th>2010</th>\n",
       "      <th>2011</th>\n",
       "      <th>2012</th>\n",
       "      <th>2013</th>\n",
       "      <th>2014</th>\n",
       "      <th>2015</th>\n",
       "    </tr>\n",
       "    <tr>\n",
       "      <th>Country</th>\n",
       "      <th></th>\n",
       "      <th></th>\n",
       "      <th></th>\n",
       "      <th></th>\n",
       "      <th></th>\n",
       "      <th></th>\n",
       "      <th></th>\n",
       "      <th></th>\n",
       "      <th></th>\n",
       "      <th></th>\n",
       "      <th></th>\n",
       "      <th></th>\n",
       "      <th></th>\n",
       "      <th></th>\n",
       "      <th></th>\n",
       "      <th></th>\n",
       "      <th></th>\n",
       "      <th></th>\n",
       "      <th></th>\n",
       "      <th></th>\n",
       "    </tr>\n",
       "  </thead>\n",
       "  <tbody>\n",
       "    <tr>\n",
       "      <th>China</th>\n",
       "      <td>1</td>\n",
       "      <td>127050</td>\n",
       "      <td>126767</td>\n",
       "      <td>597237</td>\n",
       "      <td>411683</td>\n",
       "      <td>4.70</td>\n",
       "      <td>138</td>\n",
       "      <td>1.271910e+11</td>\n",
       "      <td>93.0</td>\n",
       "      <td>19.75491</td>\n",
       "      <td>3.992331e+12</td>\n",
       "      <td>4.559041e+12</td>\n",
       "      <td>4.997775e+12</td>\n",
       "      <td>5.459247e+12</td>\n",
       "      <td>6.039659e+12</td>\n",
       "      <td>6.612490e+12</td>\n",
       "      <td>7.124978e+12</td>\n",
       "      <td>7.672448e+12</td>\n",
       "      <td>8.230121e+12</td>\n",
       "      <td>8.797999e+12</td>\n",
       "    </tr>\n",
       "    <tr>\n",
       "      <th>United States</th>\n",
       "      <td>2</td>\n",
       "      <td>96661</td>\n",
       "      <td>94747</td>\n",
       "      <td>792274</td>\n",
       "      <td>265436</td>\n",
       "      <td>8.20</td>\n",
       "      <td>230</td>\n",
       "      <td>9.083800e+10</td>\n",
       "      <td>286.0</td>\n",
       "      <td>11.57098</td>\n",
       "      <td>1.479230e+13</td>\n",
       "      <td>1.505540e+13</td>\n",
       "      <td>1.501149e+13</td>\n",
       "      <td>1.459484e+13</td>\n",
       "      <td>1.496437e+13</td>\n",
       "      <td>1.520402e+13</td>\n",
       "      <td>1.554216e+13</td>\n",
       "      <td>1.577367e+13</td>\n",
       "      <td>1.615662e+13</td>\n",
       "      <td>1.654857e+13</td>\n",
       "    </tr>\n",
       "    <tr>\n",
       "      <th>Japan</th>\n",
       "      <td>3</td>\n",
       "      <td>30504</td>\n",
       "      <td>30287</td>\n",
       "      <td>223024</td>\n",
       "      <td>61554</td>\n",
       "      <td>7.31</td>\n",
       "      <td>134</td>\n",
       "      <td>1.898400e+10</td>\n",
       "      <td>149.0</td>\n",
       "      <td>10.23282</td>\n",
       "      <td>5.496542e+12</td>\n",
       "      <td>5.617036e+12</td>\n",
       "      <td>5.558527e+12</td>\n",
       "      <td>5.251308e+12</td>\n",
       "      <td>5.498718e+12</td>\n",
       "      <td>5.473738e+12</td>\n",
       "      <td>5.569102e+12</td>\n",
       "      <td>5.644659e+12</td>\n",
       "      <td>5.642884e+12</td>\n",
       "      <td>5.669563e+12</td>\n",
       "    </tr>\n",
       "    <tr>\n",
       "      <th>United Kingdom</th>\n",
       "      <td>4</td>\n",
       "      <td>20944</td>\n",
       "      <td>20357</td>\n",
       "      <td>206091</td>\n",
       "      <td>37874</td>\n",
       "      <td>9.84</td>\n",
       "      <td>139</td>\n",
       "      <td>7.920000e+09</td>\n",
       "      <td>124.0</td>\n",
       "      <td>10.60047</td>\n",
       "      <td>2.419631e+12</td>\n",
       "      <td>2.482203e+12</td>\n",
       "      <td>2.470614e+12</td>\n",
       "      <td>2.367048e+12</td>\n",
       "      <td>2.403504e+12</td>\n",
       "      <td>2.450911e+12</td>\n",
       "      <td>2.479809e+12</td>\n",
       "      <td>2.533370e+12</td>\n",
       "      <td>2.605643e+12</td>\n",
       "      <td>2.666333e+12</td>\n",
       "    </tr>\n",
       "    <tr>\n",
       "      <th>Russian Federation</th>\n",
       "      <td>5</td>\n",
       "      <td>18534</td>\n",
       "      <td>18301</td>\n",
       "      <td>34266</td>\n",
       "      <td>12422</td>\n",
       "      <td>1.85</td>\n",
       "      <td>57</td>\n",
       "      <td>3.070900e+10</td>\n",
       "      <td>214.0</td>\n",
       "      <td>17.28868</td>\n",
       "      <td>1.385793e+12</td>\n",
       "      <td>1.504071e+12</td>\n",
       "      <td>1.583004e+12</td>\n",
       "      <td>1.459199e+12</td>\n",
       "      <td>1.524917e+12</td>\n",
       "      <td>1.589943e+12</td>\n",
       "      <td>1.645876e+12</td>\n",
       "      <td>1.666934e+12</td>\n",
       "      <td>1.678709e+12</td>\n",
       "      <td>1.616149e+12</td>\n",
       "    </tr>\n",
       "  </tbody>\n",
       "</table>\n",
       "</div>"
      ],
      "text/plain": [
       "                    Rank  Documents  Citable documents  Citations  \\\n",
       "Country                                                             \n",
       "China                  1     127050             126767     597237   \n",
       "United States          2      96661              94747     792274   \n",
       "Japan                  3      30504              30287     223024   \n",
       "United Kingdom         4      20944              20357     206091   \n",
       "Russian Federation     5      18534              18301      34266   \n",
       "\n",
       "                    Self-citations  Citations per document  H index  \\\n",
       "Country                                                               \n",
       "China                       411683                    4.70      138   \n",
       "United States               265436                    8.20      230   \n",
       "Japan                        61554                    7.31      134   \n",
       "United Kingdom               37874                    9.84      139   \n",
       "Russian Federation           12422                    1.85       57   \n",
       "\n",
       "                    Energy Supply  Energy Supply per Capita  % Renewable  \\\n",
       "Country                                                                    \n",
       "China                1.271910e+11                      93.0     19.75491   \n",
       "United States        9.083800e+10                     286.0     11.57098   \n",
       "Japan                1.898400e+10                     149.0     10.23282   \n",
       "United Kingdom       7.920000e+09                     124.0     10.60047   \n",
       "Russian Federation   3.070900e+10                     214.0     17.28868   \n",
       "\n",
       "                            2006          2007          2008          2009  \\\n",
       "Country                                                                      \n",
       "China               3.992331e+12  4.559041e+12  4.997775e+12  5.459247e+12   \n",
       "United States       1.479230e+13  1.505540e+13  1.501149e+13  1.459484e+13   \n",
       "Japan               5.496542e+12  5.617036e+12  5.558527e+12  5.251308e+12   \n",
       "United Kingdom      2.419631e+12  2.482203e+12  2.470614e+12  2.367048e+12   \n",
       "Russian Federation  1.385793e+12  1.504071e+12  1.583004e+12  1.459199e+12   \n",
       "\n",
       "                            2010          2011          2012          2013  \\\n",
       "Country                                                                      \n",
       "China               6.039659e+12  6.612490e+12  7.124978e+12  7.672448e+12   \n",
       "United States       1.496437e+13  1.520402e+13  1.554216e+13  1.577367e+13   \n",
       "Japan               5.498718e+12  5.473738e+12  5.569102e+12  5.644659e+12   \n",
       "United Kingdom      2.403504e+12  2.450911e+12  2.479809e+12  2.533370e+12   \n",
       "Russian Federation  1.524917e+12  1.589943e+12  1.645876e+12  1.666934e+12   \n",
       "\n",
       "                            2014          2015  \n",
       "Country                                         \n",
       "China               8.230121e+12  8.797999e+12  \n",
       "United States       1.615662e+13  1.654857e+13  \n",
       "Japan               5.642884e+12  5.669563e+12  \n",
       "United Kingdom      2.605643e+12  2.666333e+12  \n",
       "Russian Federation  1.678709e+12  1.616149e+12  "
      ]
     },
     "execution_count": 564,
     "metadata": {},
     "output_type": "execute_result"
    }
   ],
   "source": [
    "import pandas as pd\n",
    "import numpy as np\n",
    "\n",
    "df_xls = pd.ExcelFile('Energy Indicators.xls')\n",
    "df = df_xls.parse('Energy')\n",
    "df=df.drop(df.columns[[0,1]],axis=1)\n",
    "df=df.ix[16:242]\n",
    "df.columns = ['Country', 'Energy Supply', 'Energy Supply per Capita', '% Renewable']\n",
    "df=df.reset_index()\n",
    "df = df.drop('index', 1)\n",
    "df=df.replace('...',np.NaN)\n",
    "if i =='Energy Supply' or i == 'Energy Supply per Capita':\n",
    "    df[i]=df[i].astype(float)\n",
    "else:\n",
    "    pass\n",
    "df['Energy Supply'] = df['Energy Supply'].apply(lambda x: x*1000000)\n",
    "df['Country'].loc[df['Country']==\"Bolivia (Plurinational State of)\"]= 'Bolivia'\n",
    "df['Country'].loc[df['Country']==\"Falkland Islands (Malvinas)\"]= 'Falkland Islands'\n",
    "df['Country'].loc[df['Country']==\"Iran (Islamic Republic of)\"]= 'Iran'\n",
    "df['Country'].loc[df['Country']==\"Micronesia (Federated States of)\"]= 'Micronesia'\n",
    "df['Country'].loc[df['Country']==\"Sint Maarten (Dutch part)\"]= 'Sint Maarten'\n",
    "df['Country'].loc[df['Country']==\"Venezuela (Bolivarian Republic of)\"]= 'Venezuela'\n",
    "df['Country'].loc[df['Country']==\"China, Hong Kong Special Administrative Region3\"]= 'Hong Kong'\n",
    "df['Country'].loc[df['Country']==\"China, Macao Special Administrative Region4\"]= 'Macao'\n",
    "df['Country'].loc[df['Country']==\"The former Yugoslav Republic of Macedonia\"]= 'Macedonia'\n",
    "df['Country'].loc[df['Country']==\"United Kingdom of Great Britain and Northern Ireland19\"]= 'United Kingdom'\n",
    "df['Country'].loc[df['Country']==\"Democratic People's Republic of Korea\"]= 'North Korea'\n",
    "df['Country'].loc[df['Country']==\"Republic of Korea\"]= 'South Korea'\n",
    "df['Country'].loc[df['Country']==\"United States of America20\"]= 'United States'\n",
    "df['Country'].loc[df['Country']==\"Ukraine18\"]= 'Ukraine'\n",
    "df['Country'].loc[df['Country']==\"Switzerland17\"]= 'Switzerland'\n",
    "df['Country'].loc[df['Country']==\"Spain16\"]= 'Spain'\n",
    "df['Country'].loc[df['Country']==\"Serbia15\"]= 'Serbia'\n",
    "df['Country'].loc[df['Country']==\"Saudi Arabia14\"]= 'Saudi Arabia'\n",
    "df['Country'].loc[df['Country']==\"Portugal13\"]= 'Portugal'\n",
    "df['Country'].loc[df['Country']==\"Netherlands12\"]= 'Netherlands'\n",
    "df['Country'].loc[df['Country']==\"Kuwait11\"]= 'Kuwait'\n",
    "df['Country'].loc[df['Country']==\"Japan10\"]= 'Japan'\n",
    "df['Country'].loc[df['Country']==\"Italy9\"]= 'Italy'\n",
    "df['Country'].loc[df['Country']==\"Indonesia8\"]= 'Indonesia'\n",
    "df['Country'].loc[df['Country']==\"Greenland7\"]= 'Greenland'\n",
    "df['Country'].loc[df['Country']==\"France6\"]= 'France'\n",
    "df['Country'].loc[df['Country']==\"Denmark5\"]= 'Denmark'\n",
    "df['Country'].loc[df['Country']==\"China2\"]= 'China'\n",
    "df['Country'].loc[df['Country']==\"Australia1\"]= 'Australia'\n",
    "#df.shape\n",
    "GDP = pd.read_csv('world_bank.csv', skiprows=range(1,4), header=None)\n",
    "GDP.columns = ['Country Name', 'Country Code', 'Indicator Name', 'Indicator Code',\n",
    "       1960, 1961, 1962, 1963, 1964, 1965, 1966, 1967,\n",
    "       1968, 1969, 1970, 1971, 1972, 1973, 1974, 1975,\n",
    "       1976, 1977, 1978, 1979, 1980, 1981, 1982, 1983,\n",
    "       1984, 1985, 1986, 1987, 1988, 1989, 1990, 1991,\n",
    "       1992, 1993, 1994, 1995, 1996, 1997, 1998, 1999,\n",
    "       2000, 2001, 2002, 2003, 2004, 2005, 2006, 2007,\n",
    "       2008, 2009, 2010, 2011, 2012, 2013, 2014, 2015]\n",
    "GDP = GDP[2:]\n",
    "GDP = GDP.reset_index(drop=True)\n",
    "GDP['Country Name'].loc[GDP['Country Name']==\"Korea, Rep.\"]='South Korea'\n",
    "GDP['Country Name'].loc[GDP['Country Name']==\"Iran, Islamic Rep.\"]='Iran'\n",
    "GDP['Country Name'].loc[GDP['Country Name']==\"Hong Kong SAR, China\"]='Hong Kong'\n",
    "#GDP.head()\n",
    "ScimEn = pd.ExcelFile('scimagojr-3.xlsx').parse(\"Sheet1\")\n",
    "#ScimEn.head()\n",
    "df_GDP = pd.merge(df, GDP, how='inner', left_on='Country', right_on='Country Name')\n",
    "df_merged = pd.merge(df_GDP, ScimEn, how='inner', left_on='Country', right_on='Country')\n",
    "#df_merged\n",
    "df1 = df_merged.copy()\n",
    "for i in range(8,54):\n",
    "    df1 = df1.drop([df_merged.columns[i]], axis=1)\n",
    "df1 = df1.drop('Country Name',1)\n",
    "df1 = df1.drop('Indicator Name',1)\n",
    "df1 = df1.drop('Indicator Code',1)\n",
    "df1 = df1.drop('Country Code',1)\n",
    "df1=df1[[ 'Country',u'Rank',u'Documents',u'Citable documents',u'Citations',u'Self-citations',u'Citations per document',u'H index',\n",
    "         'Energy Supply','Energy Supply per Capita','% Renewable',2006,2007,2008,2009,2010,2011,2012,2013,2014,\n",
    " 2015]]\n",
    "df_one = df1.copy()\n",
    "df_one = df_one[df_one['Rank']<=15]\n",
    "df_one = df_one.set_index('Country')\n",
    "df_one = df_one.sort_values(['Rank'], ascending=True)\n",
    "df_one\n",
    "def answer_one():    \n",
    "    return df_one\n",
    "#answer_one().head()"
   ]
  },
  {
   "cell_type": "markdown",
   "metadata": {},
   "source": [
    "### Question 2 (6.6%)\n",
    "The previous question joined three datasets then reduced this to just the top 15 entries. When you joined the datasets, but before you reduced this to the top 15 items, how many entries did you lose?\n",
    "\n",
    "*This function should return a single number.*"
   ]
  },
  {
   "cell_type": "code",
   "execution_count": null,
   "metadata": {
    "collapsed": false
   },
   "outputs": [],
   "source": [
    "%%HTML\n",
    "<svg width=\"800\" height=\"300\">\n",
    "  <circle cx=\"150\" cy=\"180\" r=\"80\" fill-opacity=\"0.2\" stroke=\"black\" stroke-width=\"2\" fill=\"blue\" />\n",
    "  <circle cx=\"200\" cy=\"100\" r=\"80\" fill-opacity=\"0.2\" stroke=\"black\" stroke-width=\"2\" fill=\"red\" />\n",
    "  <circle cx=\"100\" cy=\"100\" r=\"80\" fill-opacity=\"0.2\" stroke=\"black\" stroke-width=\"2\" fill=\"green\" />\n",
    "  <line x1=\"150\" y1=\"125\" x2=\"300\" y2=\"150\" stroke=\"black\" stroke-width=\"2\" fill=\"black\" stroke-dasharray=\"5,3\"/>\n",
    "  <text  x=\"300\" y=\"165\" font-family=\"Verdana\" font-size=\"35\">Everything but this!</text>\n",
    "</svg>"
   ]
  },
  {
   "cell_type": "code",
   "execution_count": 602,
   "metadata": {
    "collapsed": false
   },
   "outputs": [
    {
     "data": {
      "text/plain": [
       "147"
      ]
     },
     "execution_count": 602,
     "metadata": {},
     "output_type": "execute_result"
    }
   ],
   "source": [
    "import pandas as pd\n",
    "import numpy as np\n",
    "\n",
    "df_xls = pd.ExcelFile('Energy Indicators.xls')\n",
    "df = df_xls.parse('Energy')\n",
    "df=df.drop(df.columns[[0,1]],axis=1)\n",
    "df=df.ix[16:242]\n",
    "df.columns = ['Country', 'Energy Supply', 'Energy Supply per Capita', '% Renewable']\n",
    "df=df.reset_index()\n",
    "df = df.drop('index', 1)\n",
    "df=df.replace('...',np.NaN)\n",
    "if i =='Energy Supply' or i == 'Energy Supply per Capita':\n",
    "    df[i]=df[i].astype(float)\n",
    "else:\n",
    "    pass\n",
    "df['Energy Supply'] = df['Energy Supply'].apply(lambda x: x*1000000)\n",
    "df['Country'].loc[df['Country']==\"Bolivia (Plurinational State of)\"]= 'Bolivia'\n",
    "df['Country'].loc[df['Country']==\"Falkland Islands (Malvinas)\"]= 'Falkland Islands'\n",
    "df['Country'].loc[df['Country']==\"Iran (Islamic Republic of)\"]= 'Iran'\n",
    "df['Country'].loc[df['Country']==\"Micronesia (Federated States of)\"]= 'Micronesia'\n",
    "df['Country'].loc[df['Country']==\"Sint Maarten (Dutch part)\"]= 'Sint Maarten'\n",
    "df['Country'].loc[df['Country']==\"Venezuela (Bolivarian Republic of)\"]= 'Venezuela'\n",
    "df['Country'].loc[df['Country']==\"China, Hong Kong Special Administrative Region3\"]= 'Hong Kong'\n",
    "df['Country'].loc[df['Country']==\"China, Macao Special Administrative Region4\"]= 'Macao'\n",
    "df['Country'].loc[df['Country']==\"The former Yugoslav Republic of Macedonia\"]= 'Macedonia'\n",
    "df['Country'].loc[df['Country']==\"United Kingdom of Great Britain and Northern Ireland19\"]= 'United Kingdom'\n",
    "df['Country'].loc[df['Country']==\"Democratic People's Republic of Korea\"]= 'North Korea'\n",
    "df['Country'].loc[df['Country']==\"Republic of Korea\"]= 'South Korea'\n",
    "df['Country'].loc[df['Country']==\"United States of America20\"]= 'United States'\n",
    "df['Country'].loc[df['Country']==\"Ukraine18\"]= 'Ukraine'\n",
    "df['Country'].loc[df['Country']==\"Switzerland17\"]= 'Switzerland'\n",
    "df['Country'].loc[df['Country']==\"Spain16\"]= 'Spain'\n",
    "df['Country'].loc[df['Country']==\"Serbia15\"]= 'Serbia'\n",
    "df['Country'].loc[df['Country']==\"Saudi Arabia14\"]= 'Saudi Arabia'\n",
    "df['Country'].loc[df['Country']==\"Portugal13\"]= 'Portugal'\n",
    "df['Country'].loc[df['Country']==\"Netherlands12\"]= 'Netherlands'\n",
    "df['Country'].loc[df['Country']==\"Kuwait11\"]= 'Kuwait'\n",
    "df['Country'].loc[df['Country']==\"Japan10\"]= 'Japan'\n",
    "df['Country'].loc[df['Country']==\"Italy9\"]= 'Italy'\n",
    "df['Country'].loc[df['Country']==\"Indonesia8\"]= 'Indonesia'\n",
    "df['Country'].loc[df['Country']==\"Greenland7\"]= 'Greenland'\n",
    "df['Country'].loc[df['Country']==\"France6\"]= 'France'\n",
    "df['Country'].loc[df['Country']==\"Denmark5\"]= 'Denmark'\n",
    "df['Country'].loc[df['Country']==\"China2\"]= 'China'\n",
    "df['Country'].loc[df['Country']==\"Australia1\"]= 'Australia'\n",
    "#df.shape\n",
    "GDP = pd.read_csv('world_bank.csv', skiprows=range(1,4), header=None)\n",
    "GDP.columns = ['Country Name', 'Country Code', 'Indicator Name', 'Indicator Code',\n",
    "       1960, 1961, 1962, 1963, 1964, 1965, 1966, 1967,\n",
    "       1968, 1969, 1970, 1971, 1972, 1973, 1974, 1975,\n",
    "       1976, 1977, 1978, 1979, 1980, 1981, 1982, 1983,\n",
    "       1984, 1985, 1986, 1987, 1988, 1989, 1990, 1991,\n",
    "       1992, 1993, 1994, 1995, 1996, 1997, 1998, 1999,\n",
    "       2000, 2001, 2002, 2003, 2004, 2005, 2006, 2007,\n",
    "       2008, 2009, 2010, 2011, 2012, 2013, 2014, 2015]\n",
    "GDP = GDP[2:]\n",
    "GDP = GDP.reset_index(drop=True)\n",
    "GDP['Country Name'].loc[GDP['Country Name']==\"Korea, Rep.\"]='South Korea'\n",
    "GDP['Country Name'].loc[GDP['Country Name']==\"Iran, Islamic Rep.\"]='Iran'\n",
    "GDP['Country Name'].loc[GDP['Country Name']==\"Hong Kong SAR, China\"]='Hong Kong'\n",
    "#GDP.head()\n",
    "ScimEn = pd.ExcelFile('scimagojr-3.xlsx').parse(\"Sheet1\")\n",
    "#ScimEn.head()\n",
    "df_GDP = pd.merge(df, GDP, how='inner', left_on='Country', right_on='Country Name')\n",
    "df_merged = pd.merge(df_GDP, ScimEn, how='inner', left_on='Country', right_on='Country')\n",
    "#df_merged\n",
    "df1 = df_merged.copy()\n",
    "for i in range(8,54):\n",
    "    df1 = df1.drop([df_merged.columns[i]], axis=1)\n",
    "df1 = df1.drop('Country Name',1)\n",
    "df1 = df1.drop('Indicator Name',1)\n",
    "df1 = df1.drop('Indicator Code',1)\n",
    "df1 = df1.drop('Country Code',1)\n",
    "df1=df1[[ 'Country',u'Rank',u'Documents',u'Citable documents',u'Citations',u'Self-citations',u'Citations per document',u'H index',\n",
    "         'Energy Supply','Energy Supply per Capita','% Renewable',2006,2007,2008,2009,2010,2011,2012,2013,2014,\n",
    " 2015]]\n",
    "df_two = df1.copy()\n",
    "df_two = df_two.set_index('Country')\n",
    "df_two = df_two.sort_values(['Rank'], ascending=True)\n",
    "df_two\n",
    "def answer_two():\n",
    "    return len(df_two.index)-len(answer_one().index)\n",
    "#answer_two()"
   ]
  },
  {
   "cell_type": "markdown",
   "metadata": {},
   "source": [
    "<br>\n",
    "\n",
    "Answer the following questions in the context of only the top 15 countries by Scimagojr Rank (aka the DataFrame returned by `answer_one()`)"
   ]
  },
  {
   "cell_type": "markdown",
   "metadata": {},
   "source": [
    "### Question 3 (6.6%)\n",
    "What is the average GDP over the last 10 years for each country? (exclude missing values from this calculation.)\n",
    "\n",
    "*This function should return a Series named `avgGDP` with 15 countries and their average GDP sorted in descending order.*"
   ]
  },
  {
   "cell_type": "code",
   "execution_count": 566,
   "metadata": {
    "collapsed": false,
    "scrolled": true
   },
   "outputs": [
    {
     "data": {
      "text/plain": [
       "Country\n",
       "United States         1.536434e+13\n",
       "China                 6.348609e+12\n",
       "Japan                 5.542208e+12\n",
       "Germany               3.493025e+12\n",
       "France                2.681725e+12\n",
       "United Kingdom        2.487907e+12\n",
       "Brazil                2.189794e+12\n",
       "Italy                 2.120175e+12\n",
       "India                 1.769297e+12\n",
       "Canada                1.660647e+12\n",
       "Russian Federation    1.565459e+12\n",
       "Spain                 1.418078e+12\n",
       "Australia             1.164043e+12\n",
       "South Korea           1.106715e+12\n",
       "Iran                  4.441558e+11\n",
       "dtype: float64"
      ]
     },
     "execution_count": 566,
     "metadata": {},
     "output_type": "execute_result"
    }
   ],
   "source": [
    "def answer_three():\n",
    "    Top15 = answer_one()\n",
    "    avgGDP = Top15[[2006,2007,2008,2009,2010,2011,2012,2013,2014,2015]].mean(axis=1).sort_values(ascending=False)\n",
    "    return avgGDP\n",
    "#answer_three()"
   ]
  },
  {
   "cell_type": "markdown",
   "metadata": {},
   "source": [
    "### Question 4 (6.6%)\n",
    "By how much had the GDP changed over the 10 year span for the country with the 6th largest average GDP?\n",
    "\n",
    "*This function should return a single number.*"
   ]
  },
  {
   "cell_type": "code",
   "execution_count": 567,
   "metadata": {
    "collapsed": false,
    "scrolled": true
   },
   "outputs": [
    {
     "data": {
      "text/plain": [
       "246702696075.3999"
      ]
     },
     "execution_count": 567,
     "metadata": {},
     "output_type": "execute_result"
    }
   ],
   "source": [
    "def answer_four():\n",
    "    Top15 = answer_one()\n",
    "    return float(Top15[Top15.index=='United Kingdom'][2015].iloc[0] - Top15[Top15.index=='United Kingdom'][2006].iloc[0])\n",
    "#answer_four()"
   ]
  },
  {
   "cell_type": "markdown",
   "metadata": {},
   "source": [
    "### Question 5 (6.6%)\n",
    "What is the mean `Energy Supply per Capita`?\n",
    "\n",
    "*This function should return a single number.*"
   ]
  },
  {
   "cell_type": "code",
   "execution_count": 568,
   "metadata": {
    "collapsed": false
   },
   "outputs": [
    {
     "data": {
      "text/plain": [
       "157.6"
      ]
     },
     "execution_count": 568,
     "metadata": {},
     "output_type": "execute_result"
    }
   ],
   "source": [
    "def answer_five():\n",
    "    Top15 = answer_one()\n",
    "    return float(Top15[['Energy Supply per Capita']].mean(axis=0)['Energy Supply per Capita'])\n",
    "#answer_five()"
   ]
  },
  {
   "cell_type": "markdown",
   "metadata": {},
   "source": [
    "### Question 6 (6.6%)\n",
    "What country has the maximum % Renewable and what is the percentage?\n",
    "\n",
    "*This function should return a tuple with the name of the country and the percentage.*"
   ]
  },
  {
   "cell_type": "code",
   "execution_count": 569,
   "metadata": {
    "collapsed": false
   },
   "outputs": [
    {
     "data": {
      "text/plain": [
       "('Brazil', 69.648030000000006)"
      ]
     },
     "execution_count": 569,
     "metadata": {},
     "output_type": "execute_result"
    }
   ],
   "source": [
    "def answer_six():\n",
    "    Top15 = answer_one()\n",
    "    max_rw = Top15.sort_values(['% Renewable'], ascending=False).iloc[[0]]['% Renewable']\n",
    "    return (str(max_rw.index.values[0]), max_rw.values[0])\n",
    "#answer_six()"
   ]
  },
  {
   "cell_type": "markdown",
   "metadata": {},
   "source": [
    "### Question 7 (6.6%)\n",
    "Create a new column that is the ratio of Self-Citations to Total Citations. \n",
    "What is the maximum value for this new column, and what country has the highest ratio?\n",
    "\n",
    "*This function should return a tuple with the name of the country and the ratio.*"
   ]
  },
  {
   "cell_type": "code",
   "execution_count": 570,
   "metadata": {
    "collapsed": false
   },
   "outputs": [
    {
     "data": {
      "text/plain": [
       "('China', 0.68931261793894216)"
      ]
     },
     "execution_count": 570,
     "metadata": {},
     "output_type": "execute_result"
    }
   ],
   "source": [
    "def answer_seven():\n",
    "    Top15 = answer_one()\n",
    "    Top15['ratio']=Top15['Self-citations']/Top15['Citations']\n",
    "    max_ratio = Top15.sort_values(['ratio'], ascending=False).iloc[[0]]['ratio']\n",
    "    return (str(max_ratio.index.values[0]), max_ratio.values[0])\n",
    "#answer_seven()"
   ]
  },
  {
   "cell_type": "markdown",
   "metadata": {},
   "source": [
    "### Question 8 (6.6%)\n",
    "\n",
    "Create a column that estimates the population using Energy Supply and Energy Supply per capita. \n",
    "What is the third most populous country according to this estimate?\n",
    "\n",
    "*This function should return a single string value.*"
   ]
  },
  {
   "cell_type": "code",
   "execution_count": 571,
   "metadata": {
    "collapsed": false
   },
   "outputs": [
    {
     "data": {
      "text/plain": [
       "'United States'"
      ]
     },
     "execution_count": 571,
     "metadata": {},
     "output_type": "execute_result"
    }
   ],
   "source": [
    "def answer_eight():\n",
    "    Top15 = answer_one()\n",
    "    Top15['popest']=Top15['Energy Supply']/Top15['Energy Supply per Capita']\n",
    "    max_ratio = Top15.sort_values(['popest'], ascending=False).iloc[[2]]['popest']\n",
    "    return str(max_ratio.index.values[0])\n",
    "#answer_eight()"
   ]
  },
  {
   "cell_type": "markdown",
   "metadata": {},
   "source": [
    "### Question 9 (6.6%)\n",
    "Create a column that estimates the number of citable documents per person. \n",
    "What is the correlation between the number of citable documents per capita and the energy supply per capita? Use the `.corr()` method, (Pearson's correlation).\n",
    "\n",
    "*This function should return a single number.*\n",
    "\n",
    "*(Optional: Use the built-in function `plot9()` to visualize the relationship between Energy Supply per Capita vs. Citable docs per Capita)*"
   ]
  },
  {
   "cell_type": "code",
   "execution_count": 586,
   "metadata": {
    "collapsed": false
   },
   "outputs": [
    {
     "data": {
      "text/plain": [
       "0.7940010435442943"
      ]
     },
     "execution_count": 586,
     "metadata": {},
     "output_type": "execute_result"
    }
   ],
   "source": [
    "def answer_nine():\n",
    "    Top15 = answer_one()\n",
    "    Top15['PopEst'] = Top15['Energy Supply'] / Top15['Energy Supply per Capita']\n",
    "    Top15['Citable docs per Capita'] = Top15['Citable documents'] / Top15['PopEst']\n",
    "    return float(Top15['Citable docs per Capita'].corr(Top15['Energy Supply per Capita']))\n",
    "#answer_nine()"
   ]
  },
  {
   "cell_type": "code",
   "execution_count": 572,
   "metadata": {
    "collapsed": false
   },
   "outputs": [],
   "source": [
    "def plot9():\n",
    "    import matplotlib as plt\n",
    "    %matplotlib inline\n",
    "    \n",
    "    Top15 = answer_one()\n",
    "    Top15['PopEst'] = Top15['Energy Supply'] / Top15['Energy Supply per Capita']\n",
    "    Top15['Citable docs per Capita'] = Top15['Citable documents'] / Top15['PopEst']\n",
    "    Top15.plot(x='Citable docs per Capita', y='Energy Supply per Capita', kind='scatter', xlim=[0, 0.0006])"
   ]
  },
  {
   "cell_type": "code",
   "execution_count": 587,
   "metadata": {
    "collapsed": false
   },
   "outputs": [],
   "source": [
    "#plot9() # Be sure to comment out plot9() before submitting the assignment!"
   ]
  },
  {
   "cell_type": "markdown",
   "metadata": {},
   "source": [
    "### Question 10 (6.6%)\n",
    "Create a new column with a 1 if the country's % Renewable value is at or above the median for all countries in the top 15, and a 0 if the country's % Renewable value is below the median.\n",
    "\n",
    "*This function should return a series named `HighRenew` whose index is the country name sorted in ascending order of rank.*"
   ]
  },
  {
   "cell_type": "code",
   "execution_count": 599,
   "metadata": {
    "collapsed": false
   },
   "outputs": [
    {
     "data": {
      "text/plain": [
       "Country\n",
       "China                 1\n",
       "United States         0\n",
       "Japan                 0\n",
       "United Kingdom        0\n",
       "Russian Federation    1\n",
       "Canada                1\n",
       "Germany               1\n",
       "India                 0\n",
       "France                1\n",
       "South Korea           0\n",
       "Italy                 1\n",
       "Spain                 1\n",
       "Iran                  0\n",
       "Australia             0\n",
       "Brazil                1\n",
       "Name: Renew, dtype: int64"
      ]
     },
     "execution_count": 599,
     "metadata": {},
     "output_type": "execute_result"
    }
   ],
   "source": [
    "def answer_ten():\n",
    "    Top15 = answer_one()\n",
    "    Top15['Renew'] = 0\n",
    "    Top15['median'] = float(Top15[['% Renewable']].median(axis=0))\n",
    "    Top15['Renew'].loc[Top15['% Renewable']>=Top15['median']]=1\n",
    "    HighRenew = Top15.sort_values('Rank', ascending=True)['Renew']\n",
    "    return HighRenew\n",
    "#answer_ten()"
   ]
  },
  {
   "cell_type": "markdown",
   "metadata": {},
   "source": [
    "### Question 11 (6.6%)\n",
    "Use the following dictionary to group the Countries by Continent, then create a dateframe that displays the sample size (the number of countries in each continent bin), and the sum, mean, and std deviation for the estimated population of each country.\n",
    "\n",
    "```python\n",
    "ContinentDict  = {'China':'Asia', \n",
    "                  'United States':'North America', \n",
    "                  'Japan':'Asia', \n",
    "                  'United Kingdom':'Europe', \n",
    "                  'Russian Federation':'Europe', \n",
    "                  'Canada':'North America', \n",
    "                  'Germany':'Europe', \n",
    "                  'India':'Asia',\n",
    "                  'France':'Europe', \n",
    "                  'South Korea':'Asia', \n",
    "                  'Italy':'Europe', \n",
    "                  'Spain':'Europe', \n",
    "                  'Iran':'Asia',\n",
    "                  'Australia':'Australia', \n",
    "                  'Brazil':'South America'}\n",
    "```\n",
    "\n",
    "*This function should return a DataFrame with index named Continent `['Asia', 'Australia', 'Europe', 'North America', 'South America']` and columns `['size', 'sum', 'mean', 'std']`*"
   ]
  },
  {
   "cell_type": "code",
   "execution_count": null,
   "metadata": {
    "collapsed": false
   },
   "outputs": [],
   "source": [
    "def answer_eleven():\n",
    "    Top15 = answer_one()\n",
    "    return \"ANSWER\""
   ]
  },
  {
   "cell_type": "markdown",
   "metadata": {},
   "source": [
    "### Question 12 (6.6%)\n",
    "Cut % Renewable into 5 bins. Group Top15 by the Continent, as well as these new % Renewable bins. How many countries are in each of these groups?\n",
    "\n",
    "*This function should return a __Series__ with a MultiIndex of `Continent`, then the bins for `% Renewable`. Do not include groups with no countries.*"
   ]
  },
  {
   "cell_type": "code",
   "execution_count": null,
   "metadata": {
    "collapsed": false,
    "scrolled": true
   },
   "outputs": [],
   "source": [
    "def answer_twelve():\n",
    "    Top15 = answer_one()\n",
    "    return \"ANSWER\""
   ]
  },
  {
   "cell_type": "markdown",
   "metadata": {},
   "source": [
    "### Question 13 (6.6%)\n",
    "Convert the Population Estimate series to a string with thousands separator (using commas). Do not round the results.\n",
    "\n",
    "e.g. 317615384.61538464 -> 317,615,384.61538464\n",
    "\n",
    "*This function should return a Series `PopEst` whose index is the country name and whose values are the population estimate string.*"
   ]
  },
  {
   "cell_type": "code",
   "execution_count": null,
   "metadata": {
    "collapsed": false,
    "scrolled": true
   },
   "outputs": [],
   "source": [
    "def answer_thirteen():\n",
    "    Top15 = answer_one()\n",
    "    return \"ANSWER\""
   ]
  },
  {
   "cell_type": "markdown",
   "metadata": {},
   "source": [
    "### Optional\n",
    "\n",
    "Use the built in function `plot_optional()` to see an example visualization."
   ]
  },
  {
   "cell_type": "code",
   "execution_count": 619,
   "metadata": {
    "collapsed": false,
    "scrolled": true
   },
   "outputs": [],
   "source": [
    "def plot_optional():\n",
    "    import matplotlib as plt\n",
    "    %matplotlib inline\n",
    "    Top15 = answer_one()\n",
    "    ax = Top15.plot(x='Rank', y='% Renewable', kind='scatter', \n",
    "                    c=['#e41a1c','#377eb8','#e41a1c','#4daf4a','#4daf4a','#377eb8','#4daf4a','#e41a1c',\n",
    "                       '#4daf4a','#e41a1c','#4daf4a','#4daf4a','#e41a1c','#dede00','#ff7f00'], \n",
    "                    xticks=range(1,16), s=6*Top15[2006]/10**10, alpha=.75, figsize=[16,6]);\n",
    "\n",
    "    for i, txt in enumerate(Top15.index):\n",
    "        ax.annotate(txt, [Top15['Rank'][i], Top15['% Renewable'][i]], ha='center')\n",
    "\n",
    "    print(\"This is an example of a visualization that can be created to help understand the data. \\\n",
    "This is a bubble chart showing % Renewable vs. Rank. The size of the bubble corresponds to the countries' \\\n",
    "2015 GDP, and the color corresponds to the continent.\")"
   ]
  },
  {
   "cell_type": "code",
   "execution_count": 621,
   "metadata": {
    "collapsed": false
   },
   "outputs": [],
   "source": [
    "#plot_optional() # Be sure to comment out plot_optional() before submitting the assignment!"
   ]
  }
 ],
 "metadata": {
  "anaconda-cloud": {},
  "coursera": {
   "course_slug": "python-data-analysis",
   "graded_item_id": "zAr06",
   "launcher_item_id": "KSSjT",
   "part_id": "SL3fU"
  },
  "kernelspec": {
   "display_name": "Python 2",
   "language": "python",
   "name": "python2"
  },
  "language_info": {
   "codemirror_mode": {
    "name": "ipython",
    "version": 2
   },
   "file_extension": ".py",
   "mimetype": "text/x-python",
   "name": "python",
   "nbconvert_exporter": "python",
   "pygments_lexer": "ipython2",
   "version": "2.7.11"
  }
 },
 "nbformat": 4,
 "nbformat_minor": 0
}
